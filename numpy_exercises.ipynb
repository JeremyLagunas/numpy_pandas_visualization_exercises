{
 "cells": [
  {
   "cell_type": "code",
   "execution_count": 2,
   "id": "c8dce5f8",
   "metadata": {},
   "outputs": [],
   "source": [
    "import numpy as np\n"
   ]
  },
  {
   "cell_type": "code",
   "execution_count": 3,
   "id": "9f777bbd",
   "metadata": {},
   "outputs": [],
   "source": [
    "a = np.array([4, 10, 12, 23, -2, -1, 0, 0, 0, -6, 3, -7])\n"
   ]
  },
  {
   "cell_type": "code",
   "execution_count": 13,
   "id": "92ad9c34",
   "metadata": {},
   "outputs": [
    {
     "data": {
      "text/plain": [
       "array([-2, -1, -6, -7])"
      ]
     },
     "execution_count": 13,
     "metadata": {},
     "output_type": "execute_result"
    }
   ],
   "source": [
    "# 1. How many negative numbers are there?\n",
    "a[a <0]"
   ]
  },
  {
   "cell_type": "code",
   "execution_count": 14,
   "id": "15ed8094",
   "metadata": {},
   "outputs": [
    {
     "data": {
      "text/plain": [
       "array([ 4, 10, 12, 23,  3])"
      ]
     },
     "execution_count": 14,
     "metadata": {},
     "output_type": "execute_result"
    }
   ],
   "source": [
    "# 2. How many positive numbers are there?\n",
    "a[a > 0]"
   ]
  },
  {
   "cell_type": "code",
   "execution_count": 16,
   "id": "1d142070",
   "metadata": {},
   "outputs": [
    {
     "data": {
      "text/plain": [
       "array([ 4, 10, 12])"
      ]
     },
     "execution_count": 16,
     "metadata": {},
     "output_type": "execute_result"
    }
   ],
   "source": [
    "# 3. How many even positive numbers are there?\n",
    "a[(a > 0) & (a % 2 == 0)]"
   ]
  },
  {
   "cell_type": "code",
   "execution_count": 22,
   "id": "7525b315",
   "metadata": {},
   "outputs": [
    {
     "data": {
      "text/plain": [
       "array([24,  4])"
      ]
     },
     "execution_count": 22,
     "metadata": {},
     "output_type": "execute_result"
    }
   ],
   "source": [
    "# 4. If you were to add 3 to each data point, how many positive numbers would there be?\n",
    "a_1 = a + 1\n",
    "a_1[(a_1 > 0) & (a_1 % 2 == 0)]"
   ]
  },
  {
   "cell_type": "code",
   "execution_count": 23,
   "id": "887d69da",
   "metadata": {},
   "outputs": [],
   "source": [
    "# 5. If you squared each number, what would the new mean and standard deviation be?\n",
    "a_squared = a ** 2"
   ]
  },
  {
   "cell_type": "code",
   "execution_count": 25,
   "id": "9011f7d7",
   "metadata": {},
   "outputs": [
    {
     "data": {
      "text/plain": [
       "144.0243035046516"
      ]
     },
     "execution_count": 25,
     "metadata": {},
     "output_type": "execute_result"
    }
   ],
   "source": [
    "a_squared.std()"
   ]
  },
  {
   "cell_type": "code",
   "execution_count": 26,
   "id": "da8cb528",
   "metadata": {},
   "outputs": [
    {
     "data": {
      "text/plain": [
       "74.0"
      ]
     },
     "execution_count": 26,
     "metadata": {},
     "output_type": "execute_result"
    }
   ],
   "source": [
    "a_squared.mean()"
   ]
  },
  {
   "cell_type": "code",
   "execution_count": 31,
   "id": "f9e798c9",
   "metadata": {},
   "outputs": [
    {
     "data": {
      "text/plain": [
       "array([ 1.33333333,  3.33333333,  4.        ,  7.66666667, -0.66666667,\n",
       "       -0.33333333,  0.        ,  0.        ,  0.        , -2.        ,\n",
       "        1.        , -2.33333333])"
      ]
     },
     "execution_count": 31,
     "metadata": {},
     "output_type": "execute_result"
    }
   ],
   "source": [
    "# 6. A common statistical operation on a dataset is centering. This means to adjust the data such that the mean of the data is 0. This is done by subtracting the mean from each data point. Center the data set. See this link for more on centering.\n",
    "a_center = a / a.mean()\n",
    "a_center"
   ]
  },
  {
   "cell_type": "code",
   "execution_count": 42,
   "id": "ca5abfdc",
   "metadata": {},
   "outputs": [
    {
     "data": {
      "text/plain": [
       "array([-1.48841682, -3.72104204, -4.46525045, -8.55839669,  0.74420841,\n",
       "        0.3721042 , -0.        , -0.        , -0.        ,  2.23262522,\n",
       "       -1.11631261,  2.60472943])"
      ]
     },
     "execution_count": 42,
     "metadata": {},
     "output_type": "execute_result"
    }
   ],
   "source": [
    "# 7. Calculate the z-score for each data point.\n",
    "a_zscore = ((-a.mean()) / (a.std())) * a\n",
    "a_zscore"
   ]
  },
  {
   "cell_type": "code",
   "execution_count": 43,
   "id": "4a3e33f2",
   "metadata": {},
   "outputs": [],
   "source": [
    "# more numpy exercises\n",
    "## setup 1\n",
    "a = [1, 2, 3, 4, 5, 6, 7, 8, 9, 10]"
   ]
  },
  {
   "cell_type": "code",
   "execution_count": 45,
   "id": "8804f7ce",
   "metadata": {},
   "outputs": [],
   "source": [
    "# 1. Make a variable called sum_of_a to hold the sum of all the numbers in above list\n",
    "sum_of_a = sum(a)"
   ]
  },
  {
   "cell_type": "code",
   "execution_count": 46,
   "id": "5b912999",
   "metadata": {},
   "outputs": [
    {
     "data": {
      "text/plain": [
       "55"
      ]
     },
     "execution_count": 46,
     "metadata": {},
     "output_type": "execute_result"
    }
   ],
   "source": [
    "sum_of_a"
   ]
  },
  {
   "cell_type": "code",
   "execution_count": 47,
   "id": "1c3768e5",
   "metadata": {},
   "outputs": [],
   "source": [
    "# 2. Make a variable named min_of_a to hold the minimum of all the numbers in the above list\n",
    "min_of_a = min(a)"
   ]
  },
  {
   "cell_type": "code",
   "execution_count": 48,
   "id": "f6c97e68",
   "metadata": {},
   "outputs": [
    {
     "data": {
      "text/plain": [
       "1"
      ]
     },
     "execution_count": 48,
     "metadata": {},
     "output_type": "execute_result"
    }
   ],
   "source": [
    "min_of_a"
   ]
  },
  {
   "cell_type": "code",
   "execution_count": 49,
   "id": "67a3702d",
   "metadata": {},
   "outputs": [],
   "source": [
    "# 3. Make a variable named max_of_a to hold the max number of all the numbers in the above list\n",
    "max_of_a = max(a)"
   ]
  },
  {
   "cell_type": "code",
   "execution_count": 50,
   "id": "455649ef",
   "metadata": {},
   "outputs": [
    {
     "data": {
      "text/plain": [
       "10"
      ]
     },
     "execution_count": 50,
     "metadata": {},
     "output_type": "execute_result"
    }
   ],
   "source": [
    "max_of_a"
   ]
  },
  {
   "cell_type": "code",
   "execution_count": 52,
   "id": "49a2abef",
   "metadata": {},
   "outputs": [],
   "source": [
    "# 4. Make a variable named mean_of_a to hold the average of all the numbers in the above list\n",
    "mean_of_a = sum_of_a / len(a)"
   ]
  },
  {
   "cell_type": "code",
   "execution_count": 53,
   "id": "9e2b2a8e",
   "metadata": {},
   "outputs": [
    {
     "data": {
      "text/plain": [
       "5.5"
      ]
     },
     "execution_count": 53,
     "metadata": {},
     "output_type": "execute_result"
    }
   ],
   "source": [
    "mean_of_a"
   ]
  },
  {
   "cell_type": "code",
   "execution_count": 54,
   "id": "de4a9592",
   "metadata": {},
   "outputs": [],
   "source": [
    "# 5. Make a variable named product_of_a to hold the product of multiplying all the numbers in the above list together\n",
    "def prod_list(my_list):\n",
    "    result = 1\n",
    "    for x in my_list:\n",
    "        result = result * x\n",
    "    return result"
   ]
  },
  {
   "cell_type": "code",
   "execution_count": 55,
   "id": "43b82a46",
   "metadata": {},
   "outputs": [
    {
     "data": {
      "text/plain": [
       "3628800"
      ]
     },
     "execution_count": 55,
     "metadata": {},
     "output_type": "execute_result"
    }
   ],
   "source": [
    "prod_list(a)"
   ]
  },
  {
   "cell_type": "code",
   "execution_count": 56,
   "id": "c0be9c04",
   "metadata": {},
   "outputs": [],
   "source": [
    "product_of_a = prod_list(a)"
   ]
  },
  {
   "cell_type": "code",
   "execution_count": 57,
   "id": "7c8e7564",
   "metadata": {},
   "outputs": [
    {
     "data": {
      "text/plain": [
       "3628800"
      ]
     },
     "execution_count": 57,
     "metadata": {},
     "output_type": "execute_result"
    }
   ],
   "source": [
    "product_of_a"
   ]
  },
  {
   "cell_type": "code",
   "execution_count": null,
   "id": "7771829b",
   "metadata": {},
   "outputs": [],
   "source": []
  }
 ],
 "metadata": {
  "kernelspec": {
   "display_name": "Python 3 (ipykernel)",
   "language": "python",
   "name": "python3"
  },
  "language_info": {
   "codemirror_mode": {
    "name": "ipython",
    "version": 3
   },
   "file_extension": ".py",
   "mimetype": "text/x-python",
   "name": "python",
   "nbconvert_exporter": "python",
   "pygments_lexer": "ipython3",
   "version": "3.9.12"
  }
 },
 "nbformat": 4,
 "nbformat_minor": 5
}
