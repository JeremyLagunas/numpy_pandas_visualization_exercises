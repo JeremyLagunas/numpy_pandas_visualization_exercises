{
 "cells": [
  {
   "cell_type": "code",
   "execution_count": 2,
   "id": "d3cf7925",
   "metadata": {},
   "outputs": [],
   "source": [
    "import pandas as pd\n",
    "import numpy as np\n",
    "import matplotlib.pyplot as plt"
   ]
  },
  {
   "cell_type": "code",
   "execution_count": 2,
   "id": "184ec467",
   "metadata": {},
   "outputs": [],
   "source": [
    "fruits = pd.Series([\"kiwi\", \"mango\", \"strawberry\", \"pineapple\", \"gala apple\", \"honeycrisp apple\", \"tomato\", \"watermelon\", \"honeydew\", \"kiwi\", \"kiwi\", \"kiwi\", \"mango\", \"blueberry\", \"blackberry\", \"gooseberry\", \"papaya\"])"
   ]
  },
  {
   "cell_type": "code",
   "execution_count": 3,
   "id": "adebcdd5",
   "metadata": {},
   "outputs": [
    {
     "data": {
      "text/plain": [
       "0                 kiwi\n",
       "1                mango\n",
       "2           strawberry\n",
       "3            pineapple\n",
       "4           gala apple\n",
       "5     honeycrisp apple\n",
       "6               tomato\n",
       "7           watermelon\n",
       "8             honeydew\n",
       "9                 kiwi\n",
       "10                kiwi\n",
       "11                kiwi\n",
       "12               mango\n",
       "13           blueberry\n",
       "14          blackberry\n",
       "15          gooseberry\n",
       "16              papaya\n",
       "dtype: object"
      ]
     },
     "execution_count": 3,
     "metadata": {},
     "output_type": "execute_result"
    }
   ],
   "source": [
    "fruits"
   ]
  },
  {
   "cell_type": "code",
   "execution_count": 4,
   "id": "f15012d5",
   "metadata": {},
   "outputs": [
    {
     "data": {
      "text/plain": [
       "17"
      ]
     },
     "execution_count": 4,
     "metadata": {},
     "output_type": "execute_result"
    }
   ],
   "source": [
    "## 1. Determine the number of elements in fruits.\n",
    "fruits.size"
   ]
  },
  {
   "cell_type": "code",
   "execution_count": 5,
   "id": "96b04bb5",
   "metadata": {},
   "outputs": [
    {
     "data": {
      "text/plain": [
       "RangeIndex(start=0, stop=17, step=1)"
      ]
     },
     "execution_count": 5,
     "metadata": {},
     "output_type": "execute_result"
    }
   ],
   "source": [
    "## 2. Output only the index from fruits.\n",
    "fruits.index"
   ]
  },
  {
   "cell_type": "code",
   "execution_count": 6,
   "id": "1beeba48",
   "metadata": {},
   "outputs": [
    {
     "data": {
      "text/plain": [
       "array(['kiwi', 'mango', 'strawberry', 'pineapple', 'gala apple',\n",
       "       'honeycrisp apple', 'tomato', 'watermelon', 'honeydew', 'kiwi',\n",
       "       'kiwi', 'kiwi', 'mango', 'blueberry', 'blackberry', 'gooseberry',\n",
       "       'papaya'], dtype=object)"
      ]
     },
     "execution_count": 6,
     "metadata": {},
     "output_type": "execute_result"
    }
   ],
   "source": [
    "## 3. Output only the values from fruits.\n",
    "fruits.values"
   ]
  },
  {
   "cell_type": "code",
   "execution_count": 7,
   "id": "bab0bc1d",
   "metadata": {},
   "outputs": [
    {
     "data": {
      "text/plain": [
       "dtype('O')"
      ]
     },
     "execution_count": 7,
     "metadata": {},
     "output_type": "execute_result"
    }
   ],
   "source": [
    "## 4. Confirm the data type of the values in fruits.\n",
    "fruits.dtype"
   ]
  },
  {
   "cell_type": "code",
   "execution_count": 8,
   "id": "255c64c2",
   "metadata": {},
   "outputs": [
    {
     "data": {
      "text/plain": [
       "0          kiwi\n",
       "1         mango\n",
       "2    strawberry\n",
       "3     pineapple\n",
       "4    gala apple\n",
       "dtype: object"
      ]
     },
     "execution_count": 8,
     "metadata": {},
     "output_type": "execute_result"
    }
   ],
   "source": [
    "## 5. Output only the first five values from fruits. Output the last three values. Output two random values from fruits.\n",
    "fruits.head(5)"
   ]
  },
  {
   "cell_type": "code",
   "execution_count": 9,
   "id": "101f16f9",
   "metadata": {},
   "outputs": [
    {
     "data": {
      "text/plain": [
       "14    blackberry\n",
       "15    gooseberry\n",
       "16        papaya\n",
       "dtype: object"
      ]
     },
     "execution_count": 9,
     "metadata": {},
     "output_type": "execute_result"
    }
   ],
   "source": [
    "fruits.tail(3)"
   ]
  },
  {
   "cell_type": "code",
   "execution_count": 10,
   "id": "f39747ab",
   "metadata": {},
   "outputs": [
    {
     "data": {
      "text/plain": [
       "11          kiwi\n",
       "4     gala apple\n",
       "dtype: object"
      ]
     },
     "execution_count": 10,
     "metadata": {},
     "output_type": "execute_result"
    }
   ],
   "source": [
    "fruits.sample(2)"
   ]
  },
  {
   "cell_type": "code",
   "execution_count": 11,
   "id": "eaf9698c",
   "metadata": {},
   "outputs": [
    {
     "data": {
      "text/plain": [
       "count       17\n",
       "unique      13\n",
       "top       kiwi\n",
       "freq         4\n",
       "dtype: object"
      ]
     },
     "execution_count": 11,
     "metadata": {},
     "output_type": "execute_result"
    }
   ],
   "source": [
    "## 6. Run the .describe() on fruits to see what information it returns when called on a Series with string values.\n",
    "fruits.describe()"
   ]
  },
  {
   "cell_type": "code",
   "execution_count": 54,
   "id": "3f6a866a",
   "metadata": {},
   "outputs": [
    {
     "data": {
      "text/plain": [
       "array(['kiwi', 'mango', 'strawberry', 'pineapple', 'gala apple',\n",
       "       'honeycrisp apple', 'tomato', 'watermelon', 'honeydew',\n",
       "       'blueberry', 'blackberry', 'gooseberry', 'papaya'], dtype=object)"
      ]
     },
     "execution_count": 54,
     "metadata": {},
     "output_type": "execute_result"
    }
   ],
   "source": [
    "## 7. Run the code necessary to produce only the unique string values from fruits.\n",
    "fruits.unique()"
   ]
  },
  {
   "cell_type": "code",
   "execution_count": 30,
   "id": "e07bb22f",
   "metadata": {},
   "outputs": [
    {
     "data": {
      "text/plain": [
       "kiwi                4\n",
       "mango               2\n",
       "strawberry          1\n",
       "pineapple           1\n",
       "gala apple          1\n",
       "honeycrisp apple    1\n",
       "tomato              1\n",
       "watermelon          1\n",
       "honeydew            1\n",
       "blueberry           1\n",
       "blackberry          1\n",
       "gooseberry          1\n",
       "papaya              1\n",
       "dtype: int64"
      ]
     },
     "execution_count": 30,
     "metadata": {},
     "output_type": "execute_result"
    }
   ],
   "source": [
    "## 8. Determine how many times each unique string value occurs in fruits.\n",
    "fruits.value_counts()"
   ]
  },
  {
   "cell_type": "code",
   "execution_count": 36,
   "id": "ed8c44ff",
   "metadata": {},
   "outputs": [
    {
     "data": {
      "text/plain": [
       "kiwi    4\n",
       "dtype: int64"
      ]
     },
     "execution_count": 36,
     "metadata": {},
     "output_type": "execute_result"
    }
   ],
   "source": [
    "## 9. Determine the string value that occurs most frequently in fruits.\n",
    "fruits.value_counts().head(1)"
   ]
  },
  {
   "cell_type": "code",
   "execution_count": 55,
   "id": "3f8b931a",
   "metadata": {},
   "outputs": [
    {
     "data": {
      "text/plain": [
       "strawberry          1\n",
       "pineapple           1\n",
       "gala apple          1\n",
       "honeycrisp apple    1\n",
       "tomato              1\n",
       "watermelon          1\n",
       "honeydew            1\n",
       "blueberry           1\n",
       "blackberry          1\n",
       "gooseberry          1\n",
       "papaya              1\n",
       "dtype: int64"
      ]
     },
     "execution_count": 55,
     "metadata": {},
     "output_type": "execute_result"
    }
   ],
   "source": [
    "## 10. Determine the string value that occurs least frequently in fruits.\n",
    "fruits.value_counts().nsmallest(n=1, keep = 'all')"
   ]
  },
  {
   "cell_type": "code",
   "execution_count": 57,
   "id": "3d3bfe56",
   "metadata": {},
   "outputs": [
    {
     "data": {
      "text/plain": [
       "0                 Kiwi\n",
       "1                Mango\n",
       "2           Strawberry\n",
       "3            Pineapple\n",
       "4           Gala apple\n",
       "5     Honeycrisp apple\n",
       "6               Tomato\n",
       "7           Watermelon\n",
       "8             Honeydew\n",
       "9                 Kiwi\n",
       "10                Kiwi\n",
       "11                Kiwi\n",
       "12               Mango\n",
       "13           Blueberry\n",
       "14          Blackberry\n",
       "15          Gooseberry\n",
       "16              Papaya\n",
       "dtype: object"
      ]
     },
     "execution_count": 57,
     "metadata": {},
     "output_type": "execute_result"
    }
   ],
   "source": [
    "### Exercises part II\n",
    "## 1. Capitalize all the string values in fruits.\n",
    "fruits.str.capitalize()"
   ]
  },
  {
   "cell_type": "code",
   "execution_count": 147,
   "id": "681f1d93",
   "metadata": {},
   "outputs": [
    {
     "data": {
      "text/plain": [
       "14"
      ]
     },
     "execution_count": 147,
     "metadata": {},
     "output_type": "execute_result"
    }
   ],
   "source": [
    "## 2. Count the letter \"a\" in all the string values (use string vectorization).\n",
    "sum(fruits.str.count('a'))"
   ]
  },
  {
   "cell_type": "code",
   "execution_count": 68,
   "id": "a1cffd24",
   "metadata": {},
   "outputs": [],
   "source": [
    "## 3. Output the number of vowels in each and every string value.\n",
    "def is_vowel(n):\n",
    "    if n in ('aeiou'):\n",
    "        return True\n",
    "    else:\n",
    "        return False"
   ]
  },
  {
   "cell_type": "code",
   "execution_count": 181,
   "id": "9983e855",
   "metadata": {},
   "outputs": [
    {
     "data": {
      "text/plain": [
       "2"
      ]
     },
     "execution_count": 181,
     "metadata": {},
     "output_type": "execute_result"
    }
   ],
   "source": [
    "def count_vowel(string):\n",
    "    vowels = 'aeiou'\n",
    "    num_vowels = 0\n",
    "    for i in string:\n",
    "        if i in vowels:\n",
    "            num_vowels += 1\n",
    "    return num_vowels\n",
    "\n",
    "count_vowel('apple')"
   ]
  },
  {
   "cell_type": "code",
   "execution_count": 182,
   "id": "cf27498e",
   "metadata": {},
   "outputs": [
    {
     "data": {
      "text/plain": [
       "0     2\n",
       "1     2\n",
       "2     2\n",
       "3     4\n",
       "4     4\n",
       "5     5\n",
       "6     3\n",
       "7     4\n",
       "8     3\n",
       "9     2\n",
       "10    2\n",
       "11    2\n",
       "12    2\n",
       "13    3\n",
       "14    2\n",
       "15    4\n",
       "16    3\n",
       "dtype: int64"
      ]
     },
     "execution_count": 182,
     "metadata": {},
     "output_type": "execute_result"
    }
   ],
   "source": [
    "fruits.apply(count_vowel)"
   ]
  },
  {
   "cell_type": "code",
   "execution_count": 152,
   "id": "74102ccb",
   "metadata": {},
   "outputs": [
    {
     "data": {
      "text/plain": [
       "array(['honeycrisp apple'], dtype=object)"
      ]
     },
     "execution_count": 152,
     "metadata": {},
     "output_type": "execute_result"
    }
   ],
   "source": [
    "## 4. Write the code to get the longest string value from fruits.\n",
    "fruits.values[fruits.str.count('').head(1)]"
   ]
  },
  {
   "cell_type": "code",
   "execution_count": null,
   "id": "6ddf884b",
   "metadata": {},
   "outputs": [],
   "source": [
    "## 4.  OR \n"
   ]
  },
  {
   "cell_type": "code",
   "execution_count": 154,
   "id": "4ff2df08",
   "metadata": {},
   "outputs": [
    {
     "data": {
      "text/plain": [
       "array(['mango', 'strawberry', 'pineapple', 'gala apple',\n",
       "       'honeycrisp apple', 'tomato', 'watermelon', 'honeydew', 'mango',\n",
       "       'blueberry', 'blackberry', 'gooseberry', 'papaya'], dtype=object)"
      ]
     },
     "execution_count": 154,
     "metadata": {},
     "output_type": "execute_result"
    }
   ],
   "source": [
    "## 5. Write the code to get the string values with 5 or more letters in the name.\n",
    "fruits.values[(fruits.str.len() >= 5)]"
   ]
  },
  {
   "cell_type": "code",
   "execution_count": 118,
   "id": "a0d5eafc",
   "metadata": {},
   "outputs": [
    {
     "data": {
      "text/plain": [
       "array(['tomato', 'gooseberry'], dtype=object)"
      ]
     },
     "execution_count": 118,
     "metadata": {},
     "output_type": "execute_result"
    }
   ],
   "source": [
    "## 6. Find the fruit(s) containing the letter \"o\" two or more times.\n",
    "fruits.values[(fruits.str.count('o') >= 2)]"
   ]
  },
  {
   "cell_type": "code",
   "execution_count": 124,
   "id": "92f8cbed",
   "metadata": {},
   "outputs": [
    {
     "data": {
      "text/plain": [
       "array(['strawberry', 'blueberry', 'blackberry', 'gooseberry'],\n",
       "      dtype=object)"
      ]
     },
     "execution_count": 124,
     "metadata": {},
     "output_type": "execute_result"
    }
   ],
   "source": [
    "## 7. Write the code to get only the string values containing the substring \"berry\".\n",
    "fruits.values[fruits.str.contains('berry')]"
   ]
  },
  {
   "cell_type": "code",
   "execution_count": 125,
   "id": "fb8d46e3",
   "metadata": {},
   "outputs": [
    {
     "data": {
      "text/plain": [
       "array(['pineapple', 'gala apple', 'honeycrisp apple'], dtype=object)"
      ]
     },
     "execution_count": 125,
     "metadata": {},
     "output_type": "execute_result"
    }
   ],
   "source": [
    "## 8. Write the code to get only the string values containing the substring \"apple\".\n",
    "fruits.values[fruits.str.contains('apple')]"
   ]
  },
  {
   "cell_type": "code",
   "execution_count": 157,
   "id": "4bf52378",
   "metadata": {},
   "outputs": [
    {
     "data": {
      "text/plain": [
       "0                 (2, kiwi)\n",
       "1                (2, mango)\n",
       "2           (2, strawberry)\n",
       "3            (4, pineapple)\n",
       "4           (4, gala apple)\n",
       "5     (5, honeycrisp apple)\n",
       "6               (3, tomato)\n",
       "7           (4, watermelon)\n",
       "8             (3, honeydew)\n",
       "9                 (2, kiwi)\n",
       "10                (2, kiwi)\n",
       "11                (2, kiwi)\n",
       "12               (2, mango)\n",
       "13           (3, blueberry)\n",
       "14          (2, blackberry)\n",
       "15          (4, gooseberry)\n",
       "16              (3, papaya)\n",
       "dtype: object"
      ]
     },
     "execution_count": 157,
     "metadata": {},
     "output_type": "execute_result"
    }
   ],
   "source": [
    "## 9. Which string value contains the most vowels?\n",
    "fruits.apply(count_vowel)"
   ]
  },
  {
   "cell_type": "markdown",
   "id": "4cb1a218",
   "metadata": {},
   "source": [
    "## Exerecise part III"
   ]
  },
  {
   "cell_type": "code",
   "execution_count": 166,
   "id": "6e840192",
   "metadata": {},
   "outputs": [],
   "source": [
    "## 1. Which letter occurs the most frequently in the letters Series?\n",
    "letters = pd.Series(list(    'hnvidduckkqxwymbimkccexbkmqygkxoyndmcxnwqarhyffsjpsrabtjzsypmzadfavyrnndndvswreauxovncxtwzpwejilzjrmmbbgbyxvjtewqthafnbkqplarokkyydtubbmnexoypulzwfhqvckdpqtpoppzqrmcvhhpwgjwupgzhiofohawytlsiyecuproguy'\n",
    "\n",
    "))"
   ]
  },
  {
   "cell_type": "code",
   "execution_count": 167,
   "id": "b289c6e2",
   "metadata": {},
   "outputs": [
    {
     "data": {
      "text/plain": [
       "0      h\n",
       "1      n\n",
       "2      v\n",
       "3      i\n",
       "4      d\n",
       "      ..\n",
       "195    r\n",
       "196    o\n",
       "197    g\n",
       "198    u\n",
       "199    y\n",
       "Length: 200, dtype: object"
      ]
     },
     "execution_count": 167,
     "metadata": {},
     "output_type": "execute_result"
    }
   ],
   "source": [
    "letters"
   ]
  },
  {
   "cell_type": "code",
   "execution_count": 174,
   "id": "7d158059",
   "metadata": {},
   "outputs": [
    {
     "data": {
      "text/plain": [
       "y    13\n",
       "dtype: int64"
      ]
     },
     "execution_count": 174,
     "metadata": {},
     "output_type": "execute_result"
    }
   ],
   "source": [
    "letters.value_counts().head(1)"
   ]
  },
  {
   "cell_type": "code",
   "execution_count": 177,
   "id": "a4fce8d6",
   "metadata": {},
   "outputs": [
    {
     "data": {
      "text/plain": [
       "l    4\n",
       "dtype: int64"
      ]
     },
     "execution_count": 177,
     "metadata": {},
     "output_type": "execute_result"
    }
   ],
   "source": [
    "## 2. Which letter occurs the Least frequently?\n",
    "letters.value_counts().tail(1)"
   ]
  },
  {
   "cell_type": "code",
   "execution_count": 184,
   "id": "75c8a385",
   "metadata": {},
   "outputs": [
    {
     "data": {
      "text/plain": [
       "34"
      ]
     },
     "execution_count": 184,
     "metadata": {},
     "output_type": "execute_result"
    }
   ],
   "source": [
    "## 3. How many vowels are in the Series?\n",
    "sum(letters.apply(count_vowel))"
   ]
  },
  {
   "cell_type": "code",
   "execution_count": 188,
   "id": "13e51017",
   "metadata": {},
   "outputs": [
    {
     "data": {
      "text/plain": [
       "166"
      ]
     },
     "execution_count": 188,
     "metadata": {},
     "output_type": "execute_result"
    }
   ],
   "source": [
    "## 4. How many consonants are in the Series?\n",
    "(len(letters)) - (sum(letters.apply(count_vowel)))"
   ]
  },
  {
   "cell_type": "code",
   "execution_count": 192,
   "id": "8f64eaaf",
   "metadata": {},
   "outputs": [
    {
     "data": {
      "text/plain": [
       "0      H\n",
       "1      N\n",
       "2      V\n",
       "3      I\n",
       "4      D\n",
       "      ..\n",
       "195    R\n",
       "196    O\n",
       "197    G\n",
       "198    U\n",
       "199    Y\n",
       "Length: 200, dtype: object"
      ]
     },
     "execution_count": 192,
     "metadata": {},
     "output_type": "execute_result"
    }
   ],
   "source": [
    "## 5. Create a Series that has all of the same letters but uppercased.\n",
    "letters.str.capitalize()"
   ]
  },
  {
   "cell_type": "code",
   "execution_count": 193,
   "id": "81062dcc",
   "metadata": {},
   "outputs": [
    {
     "data": {
      "text/plain": [
       "y    13\n",
       "p    12\n",
       "w    10\n",
       "b     9\n",
       "n     9\n",
       "k     9\n",
       "dtype: int64"
      ]
     },
     "execution_count": 193,
     "metadata": {},
     "output_type": "execute_result"
    }
   ],
   "source": [
    "## 6. Create a bar plot of the frequencies of the 6 most commonly occuring letters.\n",
    "letters.value_counts().head(6)"
   ]
  },
  {
   "cell_type": "code",
   "execution_count": 197,
   "id": "f39a3733",
   "metadata": {},
   "outputs": [
    {
     "data": {
      "text/plain": [
       "<AxesSubplot:>"
      ]
     },
     "execution_count": 197,
     "metadata": {},
     "output_type": "execute_result"
    },
    {
     "data": {
      "image/png": "[encoded data removed]",
      "text/plain": [
       "<Figure size 432x288 with 1 Axes>"
      ]
     },
     "metadata": {
      "needs_background": "light"
     },
     "output_type": "display_data"
    }
   ],
   "source": [
    "letters.value_counts().head(6).plot.barh()"
   ]
  },
  {
   "cell_type": "markdown",
   "id": "a3f97b8f",
   "metadata": {},
   "source": [
    "## Use pandas to create a Series named numbers from the following list:"
   ]
  },
  {
   "cell_type": "code",
   "execution_count": 4,
   "id": "0a3661dd",
   "metadata": {},
   "outputs": [],
   "source": [
    "## 1. What is the data type of the numbers Series?\n",
    "numbers = pd.Series(    ['$796,459.41', '$278.60', '$482,571.67', '$4,503,915.98', '$2,121,418.3', '$1,260,813.3', '$87,231.01', '$1,509,175.45', '$4,138,548.00', '$2,848,913.80', '$594,715.39', '$4,789,988.17', '$4,513,644.5', '$3,191,059.97', '$1,758,712.24', '$4,338,283.54', '$4,738,303.38', '$2,791,759.67', '$769,681.94', '$452,650.23']\n",
    ")"
   ]
  },
  {
   "cell_type": "code",
   "execution_count": 6,
   "id": "33891736",
   "metadata": {},
   "outputs": [
    {
     "data": {
      "text/plain": [
       "dtype('O')"
      ]
     },
     "execution_count": 6,
     "metadata": {},
     "output_type": "execute_result"
    }
   ],
   "source": [
    "numbers.dtype"
   ]
  },
  {
   "cell_type": "code",
   "execution_count": 200,
   "id": "b4e1030d",
   "metadata": {},
   "outputs": [
    {
     "data": {
      "text/plain": [
       "20"
      ]
     },
     "execution_count": 200,
     "metadata": {},
     "output_type": "execute_result"
    }
   ],
   "source": [
    "## 2. How many elements are in the number Series?\n",
    "len(numbers)"
   ]
  },
  {
   "cell_type": "code",
   "execution_count": 10,
   "id": "b7a910f2",
   "metadata": {},
   "outputs": [
    {
     "name": "stderr",
     "output_type": "stream",
     "text": [
      "/var/folders/m5/n8yy2hwx2ms0vhk6t4y8c_vr0000gn/T/ipykernel_62938/749909609.py:2: FutureWarning: The default value of regex will change from True to False in a future version. In addition, single character regular expressions will *not* be treated as literal strings when regex=True.\n",
      "  num_1 = numbers.str.replace('$', '')\n"
     ]
    }
   ],
   "source": [
    "## 3. Perform the necessary manipulations by accessing Series attributes and methods to convert the numbers Series to a numeric data type.\n",
    "num_1 = numbers.str.replace('$', '')"
   ]
  },
  {
   "cell_type": "code",
   "execution_count": 12,
   "id": "cd239e1d",
   "metadata": {},
   "outputs": [],
   "source": [
    "num_2 = num_1.str.replace(',', '')"
   ]
  },
  {
   "cell_type": "code",
   "execution_count": 15,
   "id": "0932c20a",
   "metadata": {},
   "outputs": [],
   "source": [
    "num_3 = num_2.astype('float')"
   ]
  },
  {
   "cell_type": "code",
   "execution_count": 47,
   "id": "8de403b8",
   "metadata": {},
   "outputs": [
    {
     "data": {
      "text/plain": [
       "1         278.60\n",
       "6       87231.01\n",
       "19     452650.23\n",
       "2      482571.67\n",
       "10     594715.39\n",
       "18     769681.94\n",
       "0      796459.41\n",
       "5     1260813.30\n",
       "7     1509175.45\n",
       "14    1758712.24\n",
       "4     2121418.30\n",
       "17    2791759.67\n",
       "9     2848913.80\n",
       "13    3191059.97\n",
       "8     4138548.00\n",
       "15    4338283.54\n",
       "3     4503915.98\n",
       "12    4513644.50\n",
       "16    4738303.38\n",
       "11    4789988.17\n",
       "dtype: float64"
      ]
     },
     "execution_count": 47,
     "metadata": {},
     "output_type": "execute_result"
    }
   ],
   "source": [
    "num_3.sort_values()"
   ]
  },
  {
   "cell_type": "code",
   "execution_count": 48,
   "id": "dbb86af5",
   "metadata": {},
   "outputs": [],
   "source": [
    "num_4 = num_3.sort_values()"
   ]
  },
  {
   "cell_type": "code",
   "execution_count": 49,
   "id": "63a281d1",
   "metadata": {},
   "outputs": [
    {
     "data": {
      "text/plain": [
       "11    4789988.17\n",
       "dtype: float64"
      ]
     },
     "execution_count": 49,
     "metadata": {},
     "output_type": "execute_result"
    }
   ],
   "source": [
    "## 4. Run the code to discover the maximum value from the Series.\n",
    "num_4.tail(1)"
   ]
  },
  {
   "cell_type": "code",
   "execution_count": 51,
   "id": "d978672d",
   "metadata": {},
   "outputs": [
    {
     "data": {
      "text/plain": [
       "1    278.6\n",
       "dtype: float64"
      ]
     },
     "execution_count": 51,
     "metadata": {},
     "output_type": "execute_result"
    }
   ],
   "source": [
    "## 5. Run the code to discover the minimum value from the Series.\n",
    "num_4.head(1)"
   ]
  },
  {
   "cell_type": "code",
   "execution_count": 54,
   "id": "4607732a",
   "metadata": {},
   "outputs": [
    {
     "ename": "TypeError",
     "evalue": "'Series' object cannot be interpreted as an integer",
     "output_type": "error",
     "traceback": [
      "\u001b[0;31m---------------------------------------------------------------------------\u001b[0m",
      "\u001b[0;31mTypeError\u001b[0m                                 Traceback (most recent call last)",
      "Input \u001b[0;32mIn [54]\u001b[0m, in \u001b[0;36m<cell line: 2>\u001b[0;34m()\u001b[0m\n\u001b[1;32m      1\u001b[0m \u001b[38;5;66;03m## 6. What is the range of the values in the Series?\u001b[39;00m\n\u001b[0;32m----> 2\u001b[0m num_range \u001b[38;5;241m=\u001b[39m pd\u001b[38;5;241m.\u001b[39mSeries(\u001b[38;5;28mlist\u001b[39m(\u001b[38;5;28;43mrange\u001b[39;49m\u001b[43m(\u001b[49m\u001b[43mnum_4\u001b[49m\u001b[43m)\u001b[49m))\n",
      "\u001b[0;31mTypeError\u001b[0m: 'Series' object cannot be interpreted as an integer"
     ]
    }
   ],
   "source": [
    "## 6. What is the range of the values in the Series?\n",
    "num_range = pd.Series(list(range(num_4)))"
   ]
  },
  {
   "cell_type": "code",
   "execution_count": 52,
   "id": "aaff61bb",
   "metadata": {},
   "outputs": [
    {
     "data": {
      "text/plain": [
       "(-4511.11, 1197705.993]       7\n",
       "(3592560.778, 4789988.17]     6\n",
       "(1197705.993, 2395133.385]    4\n",
       "(2395133.385, 3592560.778]    3\n",
       "dtype: int64"
      ]
     },
     "execution_count": 52,
     "metadata": {},
     "output_type": "execute_result"
    }
   ],
   "source": [
    "## 7. Bin the data into 4 equally sized intervals or bins and output how many values fall into each bin.\n",
    "pd.cut(num_4, 4).value_counts()"
   ]
  },
  {
   "cell_type": "code",
   "execution_count": 55,
   "id": "1d825b5f",
   "metadata": {},
   "outputs": [],
   "source": [
    "## 8. Plot the binned data in a meaningful way. Be sure to include a title and axis labels.\n",
    "num_bins = pd.cut(num_4, 4).value_counts()"
   ]
  },
  {
   "cell_type": "code",
   "execution_count": 59,
   "id": "b3dd59c2",
   "metadata": {},
   "outputs": [
    {
     "data": {
      "text/plain": [
       "<AxesSubplot:ylabel='Frequency'>"
      ]
     },
     "execution_count": 59,
     "metadata": {},
     "output_type": "execute_result"
    },
    {
     "data": {
      "image/png": "[encoded data removed]",
      "text/plain": [
       "<Figure size 432x288 with 1 Axes>"
      ]
     },
     "metadata": {
      "needs_background": "light"
     },
     "output_type": "display_data"
    }
   ],
   "source": [
    "num_bins.plot.hist(title = 'panda_series exercise', )"
   ]
  },
  {
   "cell_type": "code",
   "execution_count": null,
   "id": "0239ca8a",
   "metadata": {},
   "outputs": [],
   "source": []
  }
 ],
 "metadata": {
  "kernelspec": {
   "display_name": "Python 3 (ipykernel)",
   "language": "python",
   "name": "python3"
  },
  "language_info": {
   "codemirror_mode": {
    "name": "ipython",
    "version": 3
   },
   "file_extension": ".py",
   "mimetype": "text/x-python",
   "name": "python",
   "nbconvert_exporter": "python",
   "pygments_lexer": "ipython3",
   "version": "3.9.12"
  }
 },
 "nbformat": 4,
 "nbformat_minor": 5
}
